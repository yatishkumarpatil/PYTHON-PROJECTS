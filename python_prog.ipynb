{
  "nbformat": 4,
  "nbformat_minor": 0,
  "metadata": {
    "colab": {
      "provenance": []
    },
    "kernelspec": {
      "name": "python3",
      "display_name": "Python 3"
    },
    "language_info": {
      "name": "python"
    }
  },
  "cells": [
    {
      "cell_type": "markdown",
      "source": [
        "\n",
        "# **Mandatory** **Project**\n",
        "\n",
        "\n",
        "\n",
        "\n"
      ],
      "metadata": {
        "id": "WJTQ7hKAk7UO"
      }
    },
    {
      "cell_type": "markdown",
      "source": [
        "Q1: You are working in a bank and you have been given two lists of the employees who worked in 2021. Employee’s name in list 1 are Ramesh, Suresh, Mahesh, Ali, Jacob and Saritha. List 2 contains the names of Ali, Mukesh, Mahesh, Jacob, Sai, Sarita. Please write a program which helps to identify people who are common in both lists. Please do not use any in-built function.\n"
      ],
      "metadata": {
        "id": "EQKXdZS4c9nv"
      }
    },
    {
      "cell_type": "code",
      "execution_count": null,
      "metadata": {
        "colab": {
          "base_uri": "https://localhost:8080/"
        },
        "id": "A5d4WRNFcwk6",
        "outputId": "adc9dc48-6542-4af6-c053-8c0c4ff56858"
      },
      "outputs": [
        {
          "output_type": "stream",
          "name": "stdout",
          "text": [
            "Mahesh\n",
            "Ali\n",
            "Jacob\n"
          ]
        }
      ],
      "source": [
        "list1 = [ \"Ramesh\", \"Suresh\", \"Mahesh\", \"Ali\" , \"Jacob\" , \"Saritha\" ]\n",
        "list2 = [ \"Ali\", \"Mukesh\", \"Mahesh\", \"Jacob\", \"Sai\", \"Sarita\" ]\n",
        "\n",
        "def intersect(x,y):\n",
        "  for i in x:\n",
        "    for j in y:\n",
        "      if (i==j):\n",
        "        print(i)\n",
        "\n",
        "intersect(list1,list2)"
      ]
    },
    {
      "cell_type": "code",
      "source": [
        "[i for i in list1 if i in list2]"
      ],
      "metadata": {
        "id": "41zxVyZakDpr",
        "colab": {
          "base_uri": "https://localhost:8080/"
        },
        "outputId": "aebd0e35-7814-45fa-931b-3c3726abcbe6"
      },
      "execution_count": null,
      "outputs": [
        {
          "output_type": "execute_result",
          "data": {
            "text/plain": [
              "['Mahesh', 'Ali', 'Jacob']"
            ]
          },
          "metadata": {},
          "execution_count": 8
        }
      ]
    },
    {
      "cell_type": "markdown",
      "source": [
        "Q2: While entering data, someone entered a few names as a common string “Ramesh Suresh Mohit”. Please write a program which separates all the names and convert them into a list. Once converted in a list, please write a program which adds their age. \n",
        "\n",
        "\n",
        "Ramesh :  25\n",
        "\n",
        "Suresh : 22\n",
        "\n",
        "Mohit : 26"
      ],
      "metadata": {
        "id": "4RE2_L49ksqf"
      }
    },
    {
      "cell_type": "code",
      "source": [
        "txt = \"Ramesh Suresh Mohit\"\n",
        "list1 = txt.split()\n",
        "list2 = [25,22,26]\n",
        "\n",
        "for i,j in zip(list1,list2):\n",
        "  print(i,\":\",j)"
      ],
      "metadata": {
        "colab": {
          "base_uri": "https://localhost:8080/"
        },
        "id": "xtv5TKwHjeez",
        "outputId": "fa548813-b1a0-4258-ed3f-2bb1eaaa22b7"
      },
      "execution_count": null,
      "outputs": [
        {
          "output_type": "stream",
          "name": "stdout",
          "text": [
            "Ramesh : 25\n",
            "Suresh : 22\n",
            "Mohit : 26\n"
          ]
        }
      ]
    },
    {
      "cell_type": "code",
      "source": [
        "{i : j for i,j in zip(list1,list2)}"
      ],
      "metadata": {
        "colab": {
          "base_uri": "https://localhost:8080/"
        },
        "id": "563zPjIa_d9Y",
        "outputId": "ce0b5ebd-ac1a-4488-9a85-504fd8b031a6"
      },
      "execution_count": null,
      "outputs": [
        {
          "output_type": "execute_result",
          "data": {
            "text/plain": [
              "{'Ramesh': 25, 'Suresh': 22, 'Mohit': 26}"
            ]
          },
          "metadata": {},
          "execution_count": 14
        }
      ]
    },
    {
      "cell_type": "markdown",
      "source": [
        "\n",
        "Q3: A few students from a university have taken three exams\n",
        "\n",
        "Name = Sam, Jacy, Tom, Steve\n",
        "\n",
        "Python = 25, 26, 29, 28\n",
        "\n",
        "Statistics = 23, 21, 19, 25\n",
        "\n",
        "SQL = 29, 27, 28, 25\n",
        "\n",
        "\n",
        "Please write a program which calculates mean values (no in-built function for mean) of all three tests and print the highest mean value. Addition and other functions are allowed. Please also report who scored the highest mark in python using programming construct.  "
      ],
      "metadata": {
        "id": "Nr2tQEnB7z0H"
      }
    },
    {
      "cell_type": "code",
      "source": [
        "\n",
        "Name = \"Sam\", \"Jacy\", \"Tom\", \"Steve\"\n",
        "Python = 25, 26, 29, 28\n",
        "Statistics = 23, 21, 19, 25\n",
        "SQL = 29, 27, 28, 25\n",
        " \n",
        "Name = list(Name)\n",
        "Python = list(Python)\n",
        "Statistics = list(Statistics)\n",
        "SQL = list(SQL)\n",
        "\n",
        "# mean values of all tests\n",
        "\n",
        "def scores(x):\n",
        "  sum = 0\n",
        "  for i in x:\n",
        "    sum = sum +i\n",
        "  m = sum/len(x)\n",
        "  return m\n",
        "\n",
        "mean1 = scores(Python)\n",
        "print(f\"mean of python is {mean1}\")\n",
        "\n",
        "mean2 = scores(Statistics)\n",
        "print(f\"mean of Statistics is {mean2}\")\n",
        "\n",
        "mean3 = scores(SQL)\n",
        "print(f\"mean of SQL is {mean3}\")\n",
        "\n",
        "\n",
        "# Highest mean \n",
        "\n",
        "if mean1 > mean2 and mean1 > mean3:\n",
        "  print(\"mean of python is greter\")\n",
        "elif mean2 > mean3 and mean2 > mean1:\n",
        "  print(\"mean statistics is greter\")\n",
        "else:\n",
        "  print(\"mean of sql is greter\")\n",
        "\n",
        "# who got highest marks in python\n",
        "\n",
        "python = {i:j for i,j in zip(Name,Python)}\n",
        "print(f\"highest marks in python {max(python.items())}\")"
      ],
      "metadata": {
        "id": "WEVwzgsBrH_3",
        "colab": {
          "base_uri": "https://localhost:8080/"
        },
        "outputId": "7dae42c5-6cdc-42f3-de6e-7c5d958048ab"
      },
      "execution_count": 28,
      "outputs": [
        {
          "output_type": "stream",
          "name": "stdout",
          "text": [
            "mean of python is 27.0\n",
            "mean of Statistics is 22.0\n",
            "mean of SQL is 27.25\n",
            "mean of sql is greter\n",
            "highest marks in python ('Tom', 29)\n"
          ]
        }
      ]
    },
    {
      "cell_type": "markdown",
      "source": [
        "\n",
        "Q4: You are working in a medical store. A patient came to your medical store and asked to buy 2 strips of paracetamol, 3 strips of azithromycin and 5 strips of Vitamin C. One strip of paracetamol costs Rs 35, one strip of azithromycin costs Rs 49 and one strip of vitamin c costs Rs. 33. Patient gave you Rs 2000. Please tell us what is the total cost of each medicine, total cost of all medicine and how much money you refunded to the patient?  "
      ],
      "metadata": {
        "id": "y_dURlJqbBnP"
      }
    },
    {
      "cell_type": "code",
      "source": [
        "# total cost of each medicine\n",
        "\n",
        "def cost_medicine(x,y):\n",
        "  return x * y\n",
        "\n",
        "paracetamol = cost_medicine(2,35)\n",
        "print(f\"cost of paracetamol is Rs {paracetamol}\")\n",
        "\n",
        "azitthromycin = cost_medicine(3,49)\n",
        "print(f\"cost of azitthromycin is Rs {azitthromycin}\")\n",
        "\n",
        "vitaminc = cost_medicine(5,33)\n",
        "print(f\"cost of vitaminc is Rs {vitaminc}\")\n",
        "\n",
        "# total cost of all medicine\n",
        "\n",
        "medicine_total = paracetamol + azitthromycin + vitaminc\n",
        "print(f\"medicine total cost is Rs {medicine_total}\")\n",
        "\n",
        "# money refunded\n",
        "\n",
        "received = 2000\n",
        "refunded = received - medicine_total\n",
        "print(f\"money refunded is Rs {refunded}\")"
      ],
      "metadata": {
        "colab": {
          "base_uri": "https://localhost:8080/"
        },
        "id": "bwiLFoIuD12C",
        "outputId": "a2e0ba4c-0f0e-4c29-bd14-58940b063bd0"
      },
      "execution_count": 16,
      "outputs": [
        {
          "output_type": "stream",
          "name": "stdout",
          "text": [
            "cost of paracetamol is Rs 70\n",
            "cost of azitthromycin is Rs 147\n",
            "cost of vitaminc is Rs 165\n",
            "medicine total cost is Rs 382\n",
            "money refunded is Rs 1618\n"
          ]
        }
      ]
    },
    {
      "cell_type": "markdown",
      "source": [
        "\n",
        "Q5: Accept a sentence as input and find the number of vowels in it. Assume that the sentence has no punctuation marks. For example: I am learning python contains 6 vowels. This function should be applicable for all other different sentences."
      ],
      "metadata": {
        "id": "onbImeM5d8xh"
      }
    },
    {
      "cell_type": "code",
      "source": [
        "sent = input(\"enter a sentence \")\n",
        "\n",
        "def count_vow(sent): \n",
        "  count = 0\n",
        "  for i in sent:\n",
        "    if i in \"a,e,i,o,u,A,E,I,O,U\":\n",
        "      count+=1\n",
        "  print(f\"Total number of vowels are {count}\")\n",
        "\n",
        "count_vow(sent)"
      ],
      "metadata": {
        "id": "k7uKKA74d-7w",
        "colab": {
          "base_uri": "https://localhost:8080/"
        },
        "outputId": "ca9b967f-ce8e-48c3-e332-9e0c0d0e002b"
      },
      "execution_count": 9,
      "outputs": [
        {
          "output_type": "stream",
          "name": "stdout",
          "text": [
            "enter a sentence I AM LEARNING python\n",
            "Total number of vowels are 6\n"
          ]
        }
      ]
    },
    {
      "cell_type": "markdown",
      "source": [
        "Q6: You have been appointed by the election commission to create a website. Your first task is to work on a program which tells candidates if they are eligible for voting or not. If they are eligible your output should be ‘Congrats! You are eligible’, otherwise it should tell that you have to return after X number of years. Eligibility criteria for voting is 18 years. \n",
        "\n",
        "\n",
        "For example, If someone is 18 or above your output should be ‘Congrats! You are eligible’. If someone’s age is 15 years it should print output as ‘return after 3 years’.   "
      ],
      "metadata": {
        "id": "GOd0F-kejOpC"
      }
    },
    {
      "cell_type": "code",
      "source": [
        "age = int(input(\"Enter Your Age \"))\n",
        "\n",
        "def vote(age): \n",
        "  if age >= 18:\n",
        "     print(\"Congrats! You are eligible\")\n",
        "  else:\n",
        "     print(f\"return after {18 - age} years\")\n",
        "\n",
        "vote(age)"
      ],
      "metadata": {
        "colab": {
          "base_uri": "https://localhost:8080/"
        },
        "id": "yolCS770fyhl",
        "outputId": "7aa52804-6e44-4840-9094-2649f740e01e"
      },
      "execution_count": 33,
      "outputs": [
        {
          "output_type": "stream",
          "name": "stdout",
          "text": [
            "Enter Your Age 15\n",
            "return after 3 years\n"
          ]
        }
      ]
    }
  ]
}